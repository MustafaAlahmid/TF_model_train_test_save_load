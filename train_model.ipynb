{
 "cells": [
  {
   "cell_type": "code",
   "execution_count": 1,
   "id": "a108fde0",
   "metadata": {},
   "outputs": [],
   "source": [
    "import matplotlib.pyplot as plt\n",
    "import os\n",
    "import tensorflow as tf\n",
    "import matplotlib\n",
    "matplotlib.style.use('ggplot')"
   ]
  },
  {
   "cell_type": "code",
   "execution_count": 2,
   "id": "76d5eea1",
   "metadata": {},
   "outputs": [],
   "source": [
    "\n",
    "IMAGE_SHAPE = (222244, 224)\n",
    "TRAINING_DATA_DIR = 'train/'\n",
    "VALID_DATA_DIR = 'test/'"
   ]
  },
  {
   "cell_type": "code",
   "execution_count": 5,
   "id": "54d7cbab",
   "metadata": {},
   "outputs": [],
   "source": [
    "datagen = tf.keras.preprocessing.image.ImageDataGenerator(rescale=1./255)"
   ]
  },
  {
   "cell_type": "code",
   "execution_count": 6,
   "id": "34a8c235",
   "metadata": {},
   "outputs": [
    {
     "name": "stdout",
     "output_type": "stream",
     "text": [
      "Found 2561 images belonging to 3 classes.\n",
      "Found 589 images belonging to 3 classes.\n"
     ]
    }
   ],
   "source": [
    "train_generator = datagen.flow_from_directory(\n",
    "    TRAINING_DATA_DIR,\n",
    "    shuffle=True,\n",
    "    target_size=IMAGE_SHAPE,\n",
    ")\n",
    "valid_generator = datagen.flow_from_directory(\n",
    "    VALID_DATA_DIR,\n",
    "    shuffle=False,\n",
    "    target_size=IMAGE_SHAPE,\n",
    ")"
   ]
  },
  {
   "cell_type": "code",
   "execution_count": 14,
   "id": "c535a846",
   "metadata": {},
   "outputs": [],
   "source": [
    "def build_model(num_classes):\n",
    "    model = tf.keras.Sequential([\n",
    "        tf.keras.layers.Conv2D(filters=8, kernel_size=(3, 3), activation='relu',\n",
    "                               input_shape=(224, 224, 3)),\n",
    "        tf.keras.layers.MaxPooling2D(pool_size=(2, 2), strides=2),\n",
    "        tf.keras.layers.Conv2D(\n",
    "            filters=16, kernel_size=(3, 3), activation='relu'),\n",
    "        tf.keras.layers.MaxPooling2D(pool_size=(2, 2), strides=2),\n",
    "        tf.keras.layers.Conv2D(\n",
    "            filters=32, kernel_size=(3, 3), activation='relu'),\n",
    "        tf.keras.layers.MaxPooling2D(pool_size=(2, 2), strides=2),\n",
    "        tf.keras.layers.Flatten(),\n",
    "        tf.keras.layers.Dense(64, activation='relu'),\n",
    "        tf.keras.layers.Dense(num_classes, activation='softmax')\n",
    "    ])\n",
    "    return model"
   ]
  },
  {
   "cell_type": "code",
   "execution_count": 15,
   "id": "470a8afe",
   "metadata": {},
   "outputs": [],
   "source": [
    "model = build_model(num_classes=3)"
   ]
  },
  {
   "cell_type": "code",
   "execution_count": 16,
   "id": "c2e156ad",
   "metadata": {},
   "outputs": [],
   "source": [
    "model.compile(\n",
    "    optimizer=tf.keras.optimizers.Adam(lr=0.0001),\n",
    "    loss=tf.keras.losses.CategoricalCrossentropy(from_logits=True),\n",
    "    metrics=['accuracy']\n",
    ")"
   ]
  },
  {
   "cell_type": "code",
   "execution_count": 17,
   "id": "374d5252",
   "metadata": {},
   "outputs": [
    {
     "name": "stdout",
     "output_type": "stream",
     "text": [
      "Model: \"sequential_2\"\n",
      "_________________________________________________________________\n",
      " Layer (type)                Output Shape              Param #   \n",
      "=================================================================\n",
      " conv2d_6 (Conv2D)           (None, 222, 222, 8)       224       \n",
      "                                                                 \n",
      " max_pooling2d_6 (MaxPooling  (None, 111, 111, 8)      0         \n",
      " 2D)                                                             \n",
      "                                                                 \n",
      " conv2d_7 (Conv2D)           (None, 109, 109, 16)      1168      \n",
      "                                                                 \n",
      " max_pooling2d_7 (MaxPooling  (None, 54, 54, 16)       0         \n",
      " 2D)                                                             \n",
      "                                                                 \n",
      " conv2d_8 (Conv2D)           (None, 52, 52, 32)        4640      \n",
      "                                                                 \n",
      " max_pooling2d_8 (MaxPooling  (None, 26, 26, 32)       0         \n",
      " 2D)                                                             \n",
      "                                                                 \n",
      " flatten_2 (Flatten)         (None, 21632)             0         \n",
      "                                                                 \n",
      " dense_4 (Dense)             (None, 64)                1384512   \n",
      "                                                                 \n",
      " dense_5 (Dense)             (None, 3)                 195       \n",
      "                                                                 \n",
      "=================================================================\n",
      "Total params: 1,390,739\n",
      "Trainable params: 1,390,739\n",
      "Non-trainable params: 0\n",
      "_________________________________________________________________\n",
      "None\n"
     ]
    }
   ],
   "source": [
    "print(model.summary())"
   ]
  },
  {
   "cell_type": "code",
   "execution_count": 19,
   "id": "4ae3a5d0",
   "metadata": {},
   "outputs": [
    {
     "name": "stdout",
     "output_type": "stream",
     "text": [
      "Epoch 1/20\n",
      "80/80 [==============================] - 37s 459ms/step - loss: 0.9404 - accuracy: 0.5852 - val_loss: 0.6828 - val_accuracy: 0.8611\n",
      "Epoch 2/20\n",
      "80/80 [==============================] - 24s 302ms/step - loss: 0.4007 - accuracy: 0.9091 - val_loss: 0.2347 - val_accuracy: 0.9306\n",
      "Epoch 3/20\n",
      "80/80 [==============================] - 24s 295ms/step - loss: 0.1858 - accuracy: 0.9439 - val_loss: 0.1567 - val_accuracy: 0.9497\n",
      "Epoch 4/20\n",
      "80/80 [==============================] - 24s 301ms/step - loss: 0.1554 - accuracy: 0.9474 - val_loss: 0.1709 - val_accuracy: 0.9288\n",
      "Epoch 5/20\n",
      "80/80 [==============================] - 24s 303ms/step - loss: 0.1181 - accuracy: 0.9612 - val_loss: 0.1058 - val_accuracy: 0.9635\n",
      "Epoch 6/20\n",
      "80/80 [==============================] - 24s 302ms/step - loss: 0.0865 - accuracy: 0.9755 - val_loss: 0.0947 - val_accuracy: 0.9670\n",
      "Epoch 7/20\n",
      "80/80 [==============================] - 31s 392ms/step - loss: 0.1784 - accuracy: 0.9391 - val_loss: 0.0900 - val_accuracy: 0.9740\n",
      "Epoch 8/20\n",
      "80/80 [==============================] - 29s 362ms/step - loss: 0.0798 - accuracy: 0.9783 - val_loss: 0.0793 - val_accuracy: 0.9705\n",
      "Epoch 9/20\n",
      "80/80 [==============================] - 25s 311ms/step - loss: 0.0687 - accuracy: 0.9810 - val_loss: 0.0733 - val_accuracy: 0.9740\n",
      "Epoch 10/20\n",
      "80/80 [==============================] - 29s 366ms/step - loss: 0.0624 - accuracy: 0.9842 - val_loss: 0.0686 - val_accuracy: 0.9740\n",
      "Epoch 11/20\n",
      "80/80 [==============================] - 26s 321ms/step - loss: 0.0560 - accuracy: 0.9889 - val_loss: 0.0607 - val_accuracy: 0.9809\n",
      "Epoch 12/20\n",
      "80/80 [==============================] - 26s 325ms/step - loss: 0.0556 - accuracy: 0.9871 - val_loss: 0.0594 - val_accuracy: 0.9878\n",
      "Epoch 13/20\n",
      "80/80 [==============================] - 26s 322ms/step - loss: 0.0499 - accuracy: 0.9893 - val_loss: 0.0562 - val_accuracy: 0.9809\n",
      "Epoch 14/20\n",
      "80/80 [==============================] - 27s 342ms/step - loss: 0.0500 - accuracy: 0.9881 - val_loss: 0.0720 - val_accuracy: 0.9722\n",
      "Epoch 15/20\n",
      "80/80 [==============================] - 27s 333ms/step - loss: 0.0460 - accuracy: 0.9913 - val_loss: 0.0503 - val_accuracy: 0.9878\n",
      "Epoch 16/20\n",
      "80/80 [==============================] - 27s 338ms/step - loss: 0.0421 - accuracy: 0.9905 - val_loss: 0.0541 - val_accuracy: 0.9809\n",
      "Epoch 17/20\n",
      "80/80 [==============================] - 26s 323ms/step - loss: 0.0395 - accuracy: 0.9921 - val_loss: 0.0477 - val_accuracy: 0.9896\n",
      "Epoch 18/20\n",
      "80/80 [==============================] - 26s 327ms/step - loss: 0.0397 - accuracy: 0.9905 - val_loss: 0.0518 - val_accuracy: 0.9826\n",
      "Epoch 19/20\n",
      "80/80 [==============================] - 24s 303ms/step - loss: 0.0360 - accuracy: 0.9929 - val_loss: 0.0462 - val_accuracy: 0.9913\n",
      "Epoch 20/20\n",
      "80/80 [==============================] - 24s 302ms/step - loss: 0.0383 - accuracy: 0.9917 - val_loss: 0.0561 - val_accuracy: 0.9826\n"
     ]
    }
   ],
   "source": [
    "EPOCHS = 20\n",
    "BATCH_SIZE = 32\n",
    "history = model.fit(train_generator,\n",
    "                    steps_per_epoch=train_generator.samples // BATCH_SIZE,\n",
    "                    epochs=EPOCHS,\n",
    "                    validation_data=valid_generator,\n",
    "                    validation_steps=valid_generator.samples // BATCH_SIZE,\n",
    "                    verbose=1\n",
    "                    )"
   ]
  },
  {
   "cell_type": "code",
   "execution_count": 20,
   "id": "67e60de5",
   "metadata": {},
   "outputs": [],
   "source": [
    "train_loss = history.history['loss']\n",
    "train_acc = history.history['accuracy']\n",
    "valid_loss = history.history['val_loss']\n",
    "valid_acc = history.history['val_accuracy']"
   ]
  },
  {
   "cell_type": "code",
   "execution_count": 21,
   "id": "85dac4b6",
   "metadata": {},
   "outputs": [
    {
     "data": {
      "image/png": "[encoded data removed]",
      "text/plain": [
       "<Figure size 864x648 with 1 Axes>"
      ]
     },
     "metadata": {},
     "output_type": "display_data"
    },
    {
     "data": {
      "image/png": "[encoded data removed]",
      "text/plain": [
       "<Figure size 864x648 with 1 Axes>"
      ]
     },
     "metadata": {},
     "output_type": "display_data"
    }
   ],
   "source": [
    "def save_plots(train_acc, valid_acc, train_loss, valid_loss):\n",
    "    \"\"\"\n",
    "    Function to save the loss and accuracy plots to disk.\n",
    "    \"\"\"\n",
    "    # accuracy plots\n",
    "    plt.figure(figsize=(12, 9))\n",
    "    plt.plot(\n",
    "        train_acc, color='green', linestyle='-',\n",
    "        label='train accuracy'\n",
    "    )\n",
    "    plt.plot(\n",
    "        valid_acc, color='blue', linestyle='-',\n",
    "        label='validataion accuracy'\n",
    "    )\n",
    "    plt.xlabel('Epochs')\n",
    "    plt.ylabel('Accuracy')\n",
    "    plt.legend()\n",
    "    plt.savefig('accuracy.png')\n",
    "    plt.show()\n",
    "    # loss plots\n",
    "    plt.figure(figsize=(12, 9))\n",
    "    plt.plot(\n",
    "        train_loss, color='orange', linestyle='-',\n",
    "        label='train loss'\n",
    "    )\n",
    "    plt.plot(\n",
    "        valid_loss, color='red', linestyle='-',\n",
    "        label='validataion loss'\n",
    "    )\n",
    "    plt.xlabel('Epochs')\n",
    "    plt.ylabel('Loss')\n",
    "    plt.legend()\n",
    "    plt.savefig('loss.png')\n",
    "    plt.show()\n",
    "\n",
    "\n",
    "save_plots(train_acc, valid_acc, train_loss, valid_loss)"
   ]
  },
  {
   "cell_type": "code",
   "execution_count": 22,
   "id": "ed4b1704",
   "metadata": {},
   "outputs": [
    {
     "name": "stdout",
     "output_type": "stream",
     "text": [
      "INFO:tensorflow:Assets written to: saved_model/my_model\\assets\n"
     ]
    }
   ],
   "source": [
    "!mkdir -p saved_model\n",
    "model.save('saved_model/my_model')"
   ]
  },
  {
   "cell_type": "code",
   "execution_count": 23,
   "id": "fa964d23",
   "metadata": {},
   "outputs": [],
   "source": [
    "new_model = tf.keras.models.load_model('saved_model/my_model')"
   ]
  },
  {
   "cell_type": "code",
   "execution_count": 25,
   "id": "709ebb44",
   "metadata": {},
   "outputs": [],
   "source": [
    "new_model.save('my_model.h5')"
   ]
  },
  {
   "cell_type": "code",
   "execution_count": 24,
   "id": "e609bcea",
   "metadata": {},
   "outputs": [
    {
     "data": {
      "text/plain": [
       "<keras.engine.sequential.Sequential at 0x24d6ffbda30>"
      ]
     },
     "execution_count": 24,
     "metadata": {},
     "output_type": "execute_result"
    }
   ],
   "source": [
    "print(new_model.predict(test_images).shape)"
   ]
  },
  {
   "cell_type": "code",
   "execution_count": 43,
   "id": "cba907dd",
   "metadata": {},
   "outputs": [],
   "source": [
    "import cv2\n",
    "import os\n",
    "import numpy as np \n",
    "from keras.preprocessing import image\n"
   ]
  },
  {
   "cell_type": "code",
   "execution_count": 59,
   "id": "fcc63e85",
   "metadata": {},
   "outputs": [
    {
     "name": "stdout",
     "output_type": "stream",
     "text": [
      "[[0.000000e+00 7.253501e-21 1.000000e+00]]\n",
      "[[0. 0. 1.]]\n",
      "[[0.0000000e+00 1.0000000e+00 1.1360861e-17]]\n",
      "[[0. 1. 0.]]\n",
      "[[0. 1. 0.]]\n",
      "[[0. 1. 0.]]\n",
      "[[0. 1. 0.]]\n",
      "[[0. 1. 0.]]\n",
      "[[0. 1. 0.]]\n",
      "[[0. 0. 1.]]\n",
      "[[0. 0. 1.]]\n",
      "[[0. 0. 1.]]\n",
      "[[0. 0. 1.]]\n",
      "[[0. 0. 1.]]\n",
      "[[0. 1. 0.]]\n",
      "[[0. 1. 0.]]\n",
      "[[0. 0. 1.]]\n",
      "[[0. 1. 0.]]\n",
      "[[0. 1. 0.]]\n",
      "[[0. 0. 1.]]\n",
      "[[0. 0. 1.]]\n",
      "[[1. 0. 0.]]\n",
      "[[1. 0. 0.]]\n",
      "[[0. 1. 0.]]\n",
      "[[0. 1. 0.]]\n",
      "[[0. 1. 0.]]\n",
      "[[0. 1. 0.]]\n",
      "[[0.0000000e+00 2.6164998e-23 1.0000000e+00]]\n",
      "[[0. 1. 0.]]\n",
      "[[0. 0. 1.]]\n",
      "[[0. 0. 1.]]\n",
      "[[0. 1. 0.]]\n",
      "[[0. 1. 0.]]\n",
      "[[0. 0. 1.]]\n",
      "[[0. 0. 1.]]\n",
      "[[0. 0. 1.]]\n",
      "[[0. 0. 1.]]\n",
      "[[0. 1. 0.]]\n",
      "[[0. 1. 0.]]\n",
      "[[0. 0. 1.]]\n",
      "[[0. 0. 1.]]\n",
      "[[0. 1. 0.]]\n",
      "[[0.0000000e+00 2.5128703e-21 1.0000000e+00]]\n",
      "[[0. 0. 1.]]\n",
      "[[0. 0. 1.]]\n",
      "[[0. 0. 1.]]\n",
      "[[0. 0. 1.]]\n",
      "[[0. 1. 0.]]\n",
      "[[0. 0. 1.]]\n",
      "[[0. 0. 1.]]\n",
      "[[0. 1. 0.]]\n",
      "[[0. 1. 0.]]\n",
      "[[0. 0. 1.]]\n",
      "[[0. 1. 0.]]\n",
      "[[0. 1. 0.]]\n",
      "[[0. 1. 0.]]\n",
      "[[0. 0. 1.]]\n",
      "[[0. 1. 0.]]\n",
      "[[0. 1. 0.]]\n",
      "[[0. 1. 0.]]\n",
      "[[0. 1. 0.]]\n",
      "[[0.0000000e+00 1.0000000e+00 2.0187383e-15]]\n",
      "[[0. 1. 0.]]\n",
      "[[1.0000000e+00 0.0000000e+00 1.4922454e-11]]\n",
      "[[0. 1. 0.]]\n",
      "[[0. 1. 0.]]\n",
      "[[0. 1. 0.]]\n",
      "[[0.0000000e+00 1.4314714e-09 1.0000000e+00]]\n",
      "[[0. 0. 1.]]\n",
      "[[0. 0. 1.]]\n",
      "[[0. 1. 0.]]\n",
      "[[0. 0. 1.]]\n",
      "[[0. 1. 0.]]\n",
      "[[0. 1. 0.]]\n",
      "[[0.0000000e+00 1.0536759e-21 1.0000000e+00]]\n",
      "[[0. 1. 0.]]\n",
      "[[0. 1. 0.]]\n",
      "[[0.000000e+00 1.000000e+00 8.222074e-31]]\n",
      "[[0. 1. 0.]]\n",
      "[[0.0000000e+00 9.0177175e-24 1.0000000e+00]]\n",
      "[[0. 0. 1.]]\n",
      "[[0. 1. 0.]]\n",
      "[[0. 1. 0.]]\n",
      "[[0. 1. 0.]]\n",
      "[[0. 1. 0.]]\n",
      "[[0. 1. 0.]]\n",
      "[[0. 1. 0.]]\n",
      "[[0. 1. 0.]]\n",
      "[[0. 0. 1.]]\n",
      "[[0.0000000e+00 5.6552795e-23 1.0000000e+00]]\n",
      "[[0. 1. 0.]]\n",
      "[[0. 0. 1.]]\n",
      "[[0. 1. 0.]]\n",
      "[[0. 1. 0.]]\n",
      "[[0. 1. 0.]]\n",
      "[[0. 1. 0.]]\n",
      "[[0. 0. 1.]]\n",
      "[[0. 1. 0.]]\n",
      "[[0. 1. 0.]]\n",
      "[[0. 1. 0.]]\n",
      "[[0. 0. 1.]]\n",
      "[[0. 1. 0.]]\n",
      "[[0. 0. 1.]]\n",
      "[[0. 1. 0.]]\n",
      "[[0. 0. 1.]]\n",
      "[[0. 1. 0.]]\n",
      "[[0. 1. 0.]]\n",
      "[[0. 1. 0.]]\n",
      "[[0. 0. 1.]]\n",
      "[[0. 1. 0.]]\n",
      "[[0. 1. 0.]]\n",
      "[[0. 1. 0.]]\n",
      "[[0. 1. 0.]]\n",
      "[[0. 0. 1.]]\n",
      "[[0. 0. 1.]]\n",
      "[[0.0000000e+00 1.0000000e+00 1.6589589e-17]]\n",
      "[[0. 1. 0.]]\n",
      "[[0. 0. 1.]]\n",
      "[[0. 1. 0.]]\n",
      "[[0. 0. 1.]]\n",
      "[[0. 0. 1.]]\n",
      "[[0. 1. 0.]]\n",
      "[[0. 0. 1.]]\n",
      "[[0. 0. 1.]]\n",
      "[[0. 0. 1.]]\n",
      "[[0. 0. 1.]]\n",
      "[[0. 0. 1.]]\n",
      "[[0.000000e+00 3.718318e-21 1.000000e+00]]\n",
      "[[0. 1. 0.]]\n",
      "[[0.0000000e+00 9.2959181e-07 9.9999905e-01]]\n",
      "[[0.0000000e+00 2.4652367e-20 1.0000000e+00]]\n",
      "[[0. 1. 0.]]\n",
      "[[0.         0.01398303 0.9860169 ]]\n",
      "[[0. 0. 1.]]\n",
      "[[0. 1. 0.]]\n",
      "[[0. 1. 0.]]\n",
      "[[0. 1. 0.]]\n",
      "[[0. 1. 0.]]\n",
      "[[0. 1. 0.]]\n",
      "[[0. 0. 1.]]\n",
      "[[0. 1. 0.]]\n",
      "[[0. 0. 1.]]\n",
      "[[0. 0. 1.]]\n",
      "[[0. 1. 0.]]\n",
      "[[0. 0. 1.]]\n",
      "[[0. 1. 0.]]\n",
      "[[0. 0. 1.]]\n",
      "[[0. 1. 0.]]\n",
      "[[0. 1. 0.]]\n",
      "[[0. 0. 1.]]\n",
      "[[0. 1. 0.]]\n",
      "[[0. 0. 1.]]\n",
      "[[0. 1. 0.]]\n",
      "[[0. 1. 0.]]\n",
      "[[0. 1. 0.]]\n",
      "[[0. 1. 0.]]\n",
      "[[0. 0. 1.]]\n",
      "[[0. 1. 0.]]\n",
      "[[0. 1. 0.]]\n",
      "[[0. 1. 0.]]\n",
      "[[0. 1. 0.]]\n",
      "[[0. 1. 0.]]\n",
      "[[0. 1. 0.]]\n",
      "[[0. 1. 0.]]\n",
      "[[0. 0. 1.]]\n",
      "[[0. 1. 0.]]\n",
      "[[0. 1. 0.]]\n",
      "[[0. 1. 0.]]\n",
      "[[0.        0.0352101 0.9647899]]\n",
      "[[0. 1. 0.]]\n",
      "[[0.0000000e+00 1.0000000e+00 3.1489458e-38]]\n",
      "[[0. 1. 0.]]\n",
      "[[0. 0. 1.]]\n",
      "[[0. 1. 0.]]\n",
      "[[0. 0. 1.]]\n",
      "[[0. 1. 0.]]\n",
      "[[0. 1. 0.]]\n",
      "[[0. 1. 0.]]\n",
      "[[0. 1. 0.]]\n",
      "[[0. 1. 0.]]\n",
      "[[0. 1. 0.]]\n",
      "[[0. 1. 0.]]\n",
      "[[0. 1. 0.]]\n",
      "[[0. 0. 1.]]\n",
      "[[0. 1. 0.]]\n",
      "[[0. 1. 0.]]\n",
      "[[0. 0. 1.]]\n",
      "[[0. 1. 0.]]\n",
      "[[0. 1. 0.]]\n",
      "[[0. 1. 0.]]\n",
      "[[0. 1. 0.]]\n",
      "[[0.000000e+00 1.000000e+00 2.530211e-15]]\n",
      "[[0. 1. 0.]]\n",
      "[[0. 1. 0.]]\n",
      "[[0. 1. 0.]]\n",
      "[[0. 1. 0.]]\n",
      "[[0. 1. 0.]]\n",
      "[[0. 1. 0.]]\n",
      "[[0. 1. 0.]]\n",
      "[[0. 1. 0.]]\n",
      "[[0. 1. 0.]]\n",
      "[[0. 0. 1.]]\n",
      "[[0. 0. 1.]]\n",
      "[[0. 0. 1.]]\n",
      "[[0. 0. 1.]]\n"
     ]
    }
   ],
   "source": [
    "# # dsize\n",
    "path = 'C:/Users/m.younis/Desktop/Dataset/test/doc/'\n",
    "\n",
    "for i in os.listdir(path):\n",
    "    if i.endswith('png'):\n",
    "        img_path = path + i\n",
    "        img = cv2.imread(img_path)\n",
    "        img = cv2.resize(img,(224,224))  \n",
    "        img = img.reshape(1,224,224,3)\n",
    "\n",
    "        print(new_model.predict(img))\n"
   ]
  },
  {
   "cell_type": "code",
   "execution_count": null,
   "id": "94d33578",
   "metadata": {},
   "outputs": [],
   "source": []
  }
 ],
 "metadata": {
  "kernelspec": {
   "display_name": "Python 3 (ipykernel)",
   "language": "python",
   "name": "python3"
  },
  "language_info": {
   "codemirror_mode": {
    "name": "ipython",
    "version": 3
   },
   "file_extension": ".py",
   "mimetype": "text/x-python",
   "name": "python",
   "nbconvert_exporter": "python",
   "pygments_lexer": "ipython3",
   "version": "3.9.7"
  }
 },
 "nbformat": 4,
 "nbformat_minor": 5
}
